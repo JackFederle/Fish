{
 "cells": [
  {
   "cell_type": "markdown",
   "metadata": {},
   "source": [
    "# Frogs to be"
   ]
  },
  {
   "cell_type": "markdown",
   "metadata": {},
   "source": [
    "This dataset comes from the lab of Professor David Prober, he studied the behaviour of zebrafish larvae (frogs to be). He recorded their movments with a camera. Some of these fish have a mutation, other do not. How does this mutation affect wakefullness? \n",
    "The metrics that will be used are: \n",
    "-  active bout: a period of time where a fish is costantly active\n",
    "-  active bout lenght: number of consecutive minutes with activity "
   ]
  },
  {
   "cell_type": "markdown",
   "metadata": {},
   "source": [
    "### Data exploration\n",
    "\n",
    "The first step in the analysis is to take a look at the data and confront the distribution of the populations of larvae with the mutation and those without"
   ]
  },
  {
   "cell_type": "code",
   "execution_count": 6,
   "metadata": {},
   "outputs": [],
   "source": [
    "import numpy as np \n",
    "from numpy import genfromtxt\n",
    "bout_lengths_wt = genfromtxt('/Users/jackfederle/Documents/python/Data/bout_lengths_wt.csv')\n",
    "bout_lengths_mut = genfromtxt('/Users/jackfederle/Documents/python/Data/bout_lengths_mut.csv')\n",
    "bout_lengths_het = genfromtxt('/Users/jackfederle/Documents/python/Data/bout_lengths_het.csv')"
   ]
  },
  {
   "cell_type": "code",
   "execution_count": 7,
   "metadata": {},
   "outputs": [
    {
     "name": "stdout",
     "output_type": "stream",
     "text": [
      "4.430888315517877\n"
     ]
    }
   ],
   "source": [
    "# down the line I saw that code was not running because of some nan\n",
    "bout_lengths_het = bout_lengths_het[np.logical_not(np.isnan(bout_lengths_het))]\n",
    "print(np.mean(bout_lengths_het))"
   ]
  },
  {
   "cell_type": "code",
   "execution_count": 8,
   "metadata": {},
   "outputs": [],
   "source": [
    "import numpy as np\n",
    "def ecdf(data):\n",
    "    \n",
    "    # compute x and y to the plot them \n",
    "    n = len(data)\n",
    "    x = np.sort(data)\n",
    "    y = np.arange(1, n+1) / n\n",
    "\n",
    "    return x, y"
   ]
  },
  {
   "cell_type": "code",
   "execution_count": 9,
   "metadata": {},
   "outputs": [
    {
     "data": {
      "image/png": "[encoded data removed]",
      "text/plain": [
       "<Figure size 432x288 with 1 Axes>"
      ]
     },
     "metadata": {},
     "output_type": "display_data"
    }
   ],
   "source": [
    "import matplotlib.pyplot as plt\n",
    "\n",
    "x_wt, y_wt = ecdf(bout_lengths_wt)\n",
    "x_mut, y_mut = ecdf(bout_lengths_mut)\n",
    "\n",
    "_ = plt.plot(x_wt, y_wt, marker='.', linestyle='none')\n",
    "_ = plt.plot(x_mut, y_mut, marker='.', linestyle='none')\n",
    "\n",
    "_ = plt.legend(('wt', 'mut'))\n",
    "_ = plt.xlabel('active bout length (min)')\n",
    "_ = plt.ylabel('ECDF')\n",
    "plt.show()"
   ]
  },
  {
   "cell_type": "markdown",
   "metadata": {},
   "source": [
    "Looks like an exponential distribution, becoming inactive happens randomly for these fish.\n",
    "Next I'm going to look at the mean of the active bout for both populations, I will use bootstrap to get an idea of the accuracy. I'm not going to deal with that outlier here."
   ]
  },
  {
   "cell_type": "code",
   "execution_count": 10,
   "metadata": {},
   "outputs": [],
   "source": [
    "def bootstrap_replicate_1d(data, func):\n",
    "    bs_sample = np.random.choice(data, len(data))\n",
    "    return func(bs_sample)\n",
    "\n",
    "def draw_bs_reps(data, func, size=1):\n",
    "\n",
    "    bs_replicates = np.empty(size)\n",
    "\n",
    "    for i in range(size):\n",
    "        bs_replicates[i] = bootstrap_replicate_1d(data, func)\n",
    "\n",
    "    return bs_replicates"
   ]
  },
  {
   "cell_type": "code",
   "execution_count": 11,
   "metadata": {},
   "outputs": [
    {
     "name": "stdout",
     "output_type": "stream",
     "text": [
      "\n",
      "wt:  mean = 3.874 min., confidence intervals = [3.6, 4.1] min.\n",
      "mut: mean = 6.543 min., confidence intervals = [6.1, 7.0] min.\n",
      "\n"
     ]
    }
   ],
   "source": [
    "mean_wt = np.mean(bout_lengths_wt)\n",
    "mean_mut = np.mean(bout_lengths_mut)\n",
    "\n",
    "bs_reps_wt = draw_bs_reps(bout_lengths_wt, np.mean, size=10000)\n",
    "bs_reps_mut = draw_bs_reps(bout_lengths_mut, np.mean, size=10000)\n",
    "\n",
    "conf_int_wt = np.percentile(bs_reps_wt, [2.5, 97.5])\n",
    "conf_int_mut = np.percentile(bs_reps_mut, [2.5, 97.5])\n",
    "\n",
    "print(\"\"\"\n",
    "wt:  mean = {0:.3f} min., confidence intervals = [{1:.1f}, {2:.1f}] min.\n",
    "mut: mean = {3:.3f} min., confidence intervals = [{4:.1f}, {5:.1f}] min.\n",
    "\"\"\".format(mean_wt, *conf_int_wt, mean_mut, *conf_int_mut))"
   ]
  },
  {
   "cell_type": "markdown",
   "metadata": {},
   "source": [
    "It looks like the mutation has an effect on the lengeth of the bout, even though the intervals are fairly wide."
   ]
  },
  {
   "cell_type": "code",
   "execution_count": 12,
   "metadata": {},
   "outputs": [],
   "source": [
    "#TODO plt.errorbar"
   ]
  },
  {
   "cell_type": "markdown",
   "metadata": {},
   "source": [
    "### Next I'm going to explore the difference between the heterozigotic and wild type fish. \n",
    "\n",
    "The heterozigotic fish have inhibited melatonine production, I am pretty sure that this has an effect on their bouts. \n",
    "I will test the hypotesis that there is no difference between the two populations.\n",
    "I will use permutation to test that. "
   ]
  },
  {
   "cell_type": "code",
   "execution_count": 18,
   "metadata": {},
   "outputs": [],
   "source": [
    "def diff_of_means(data1, data2): \n",
    "    diff = np.mean(data1) - np.mean(data2)\n",
    "    return diff"
   ]
  },
  {
   "cell_type": "code",
   "execution_count": 19,
   "metadata": {},
   "outputs": [],
   "source": [
    "def permutation_sample(data1, data2):\n",
    "    \"\"\"Generate a permutation sample from two data sets.\"\"\"\n",
    "\n",
    "    # Concatenate the data sets: data\n",
    "    data = np.concatenate((data1, data2))\n",
    "\n",
    "    # Permute the concatenated array: permuted_data\n",
    "    permuted_data = np.random.permutation(data)\n",
    "\n",
    "    # Split the permuted array into two: perm_sample_1, perm_sample_2\n",
    "    perm_sample_1 = permuted_data[:len(data1)]\n",
    "    perm_sample_2 = permuted_data[len(data1):]\n",
    "\n",
    "    return perm_sample_1, perm_sample_2"
   ]
  },
  {
   "cell_type": "code",
   "execution_count": 20,
   "metadata": {},
   "outputs": [],
   "source": [
    "def draw_perm_reps(data_1, data_2, func, size=1):\n",
    "    \"\"\"Generate multiple permutation replicates.\"\"\"\n",
    "\n",
    "    # array to store the replicates\n",
    "    perm_replicates = np.empty(size)\n",
    "\n",
    "    for i in range(size):\n",
    "        perm_sample_1, perm_sample_2 = permutation_sample(data_1, data_2)\n",
    "\n",
    "        # compute the test statistic on the generated samples\n",
    "        perm_replicates[i] = func(perm_sample_1, perm_sample_2)\n",
    "\n",
    "    return perm_replicates"
   ]
  },
  {
   "cell_type": "code",
   "execution_count": 16,
   "metadata": {},
   "outputs": [
    {
     "name": "stdout",
     "output_type": "stream",
     "text": [
      "p = 0.0014\n"
     ]
    }
   ],
   "source": [
    "diff_means = np.mean(bout_lengths_het) - np.mean(bout_lengths_wt)\n",
    "\n",
    "perm_reps = draw_perm_reps(bout_lengths_het, bout_lengths_wt, diff_of_means, size=10000)\n",
    "\n",
    "p_val = np.sum(perm_reps >= diff_means) / len(perm_reps)\n",
    "\n",
    "print('p =', p_val)"
   ]
  },
  {
   "cell_type": "markdown",
   "metadata": {},
   "source": [
    "The chance to get the observed data if the frogs were exactly the same is 0.1% "
   ]
  },
  {
   "cell_type": "markdown",
   "metadata": {},
   "source": [
    "Now I will test the hypothesis that the means are truely equal:"
   ]
  },
  {
   "cell_type": "code",
   "execution_count": 17,
   "metadata": {},
   "outputs": [
    {
     "name": "stdout",
     "output_type": "stream",
     "text": [
      "p-value = 0.0007\n"
     ]
    }
   ],
   "source": [
    "# Concatenate arrays: bout_lengths_concat\n",
    "bout_lengths_concat = np.concatenate((bout_lengths_wt, bout_lengths_het))\n",
    "\n",
    "# Compute mean of all bout_lengths: mean_bout_length\n",
    "mean_bout_length = np.mean(bout_lengths_concat)\n",
    "\n",
    "# Generate shifted arrays\n",
    "wt_shifted = bout_lengths_wt - np.mean(bout_lengths_wt) + mean_bout_length\n",
    "het_shifted = bout_lengths_het - np.mean(bout_lengths_het) + mean_bout_length\n",
    "\n",
    "# Compute 10,000 bootstrap replicates from shifted arrays\n",
    "bs_reps_wt = draw_bs_reps(wt_shifted, np.mean,size=10000)\n",
    "bs_reps_het = draw_bs_reps(het_shifted, np.mean,size=10000)\n",
    "\n",
    "# Get replicates of difference of means: bs_replicates\n",
    "bs_reps =  bs_reps_het - bs_reps_wt\n",
    "\n",
    "# Compute and print p-value: p\n",
    "p = np.sum(bs_reps >= diff_means) / len(bs_reps)\n",
    "print('p-value =', p)"
   ]
  },
  {
   "cell_type": "markdown",
   "metadata": {},
   "source": [
    "I got a result of similar magnitude as the permutation test, though slightly smaller. I can safely state that the two populations are not identical."
   ]
  },
  {
   "cell_type": "code",
   "execution_count": null,
   "metadata": {},
   "outputs": [],
   "source": []
  }
 ],
 "metadata": {
  "kernelspec": {
   "display_name": "Python [conda env:anaconda3]",
   "language": "python",
   "name": "conda-env-anaconda3-py"
  },
  "language_info": {
   "codemirror_mode": {
    "name": "ipython",
    "version": 3
   },
   "file_extension": ".py",
   "mimetype": "text/x-python",
   "name": "python",
   "nbconvert_exporter": "python",
   "pygments_lexer": "ipython3",
   "version": "3.6.5"
  }
 },
 "nbformat": 4,
 "nbformat_minor": 2
}
